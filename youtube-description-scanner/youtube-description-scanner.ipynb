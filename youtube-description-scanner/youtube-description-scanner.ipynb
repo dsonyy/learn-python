{
 "cells": [
  {
   "cell_type": "code",
   "execution_count": 1,
   "metadata": {},
   "outputs": [],
   "source": [
    "from pyyoutube import Api\r\n",
    "\r\n",
    "API_KEY = open(\"api-key\").readline()\r\n",
    "api = Api(api_key=API_KEY)"
   ]
  },
  {
   "cell_type": "markdown",
   "metadata": {},
   "source": [
    "## Load playlist items"
   ]
  },
  {
   "cell_type": "code",
   "execution_count": 2,
   "metadata": {},
   "outputs": [],
   "source": [
    "playlist = api.get_playlist_items(playlist_id=\"PLuqpwpkBmbAn3lA7tY9lO3LaUOaRkAq1A\", count=None)"
   ]
  },
  {
   "cell_type": "markdown",
   "metadata": {},
   "source": [
    "## Process item descriptions"
   ]
  },
  {
   "cell_type": "code",
   "execution_count": 3,
   "metadata": {},
   "outputs": [],
   "source": [
    "def find_content(text):\r\n",
    "    content = []\r\n",
    "    for line in text.split(\"\\n\"):\r\n",
    "        line_s = line.split()\r\n",
    "        if not line_s:\r\n",
    "            continue\r\n",
    "\r\n",
    "        if len(line_s[0]) >= 2 and line_s[0][0].isnumeric() and line_s[0][1] == \")\":\r\n",
    "            content.append(line)\r\n",
    "        elif len(line_s[0]) >= 1 and line_s[0][0] == \"*\":\r\n",
    "            content.append(line)\r\n",
    "    return content\r\n",
    "\r\n",
    "videos = {}\r\n",
    "for item in playlist.items:\r\n",
    "    item = item.to_dict()\r\n",
    "    content = find_content(item[\"snippet\"][\"description\"])\r\n",
    "    videos[item[\"snippet\"][\"title\"]] = content"
   ]
  },
  {
   "cell_type": "markdown",
   "metadata": {},
   "source": [
    "### Contents found"
   ]
  },
  {
   "cell_type": "code",
   "execution_count": 4,
   "metadata": {},
   "outputs": [
    {
     "name": "stdout",
     "output_type": "stream",
     "text": [
      "6 Czytamy naturę #95 | Dlaczego jesteś głodny? - Ogon ciemnej materii - Nadmuchiwane origami\n",
      "6 Czytamy naturę #94 | Makaki samoświadome? - Filtrujemy wszystko! - Kreatywna destrukcja\n",
      "6 Czytamy naturę #93 | Nie ma już ciemnych miejsc - Nanodrgania - Sprawiedliwa chemia\n",
      "6 Czytamy naturę #92 | Masz taką dziwną skłonność - Komórka minimalna - Cudowne trufle\n",
      "6 Czytamy naturę #91 | Ucho w kolanie - Manty znacząco machają - Debata ze sztuczną inteligencją\n",
      "6 Czytamy naturę #90 | Bakterie z prastarych głębin - Zajrzeć za róg - Żyjmy 115 lat!\n",
      "6 Czytamy naturę #89 | Kwarantanna mrówek - Złota grawitacja - Przestań gadać!\n",
      "6 Czytamy naturę #88 | Na dnie rowu - Trzy wymiary genomu - Gdzie średnie dinozaury?\n",
      "6 Czytamy naturę #87 | Makaki handlują okularami - Miękki robot - Ameba w człowieku\n",
      "6 Czytamy naturę #86 | Muzyka jaskiniowców - Najnudniejszy miliard lat - Wieloryb geologiem\n",
      "6 Czytamy naturę #85 | Maszyna Ramanujana - 200 nanogramów einsteinu - Ostre papryczki\n",
      "5 Czytamy naturę #84 | Sztuczny człowiek in vitro - Księżyc i miesiączka - Turbulentne mydliny\n",
      "6 Czytamy naturę #83 | Gruby, ale zdrowy? - Psychodelik na uzależnienie - Hiperszybki strzał\n",
      "6 Czytamy naturę #82 | Triumf Hindusa na macie - Kalafior po brytyjsku - Skup się, dziecko!\n",
      "3 Czytamy naturę #81 | Nathaniel Scholz i tajemnica śmierci kiżucza\n",
      "6 Czytamy naturę #80 | Drukarka 3D superszczegółowa - Mapy mikrobów - Marsz komórek\n",
      "6 Czytamy naturę #78 | Balon sterowany AI - Tlen z wody na Marsie - Świecące grzyby\n",
      "6 Czytamy naturę #77 | Neutrina z jądra Słońca - Fraktalne nanokryształki - O ciekawości\n",
      "6 Czytamy naturę #76 | Google AI zwija białka - Robot-badacz oceanów - Matematyka pejzażu\n",
      "6 Czytamy naturę #75 | Pterozaury górą i dołem - Nowe fale mózgowe - Ile dzisiaj zrobisz kilometrów?\n",
      "6 Czytamy naturę #74 | Ile jest materii w Kosmosie? - 1,8 mld drzew - Progresywny Kaktus\n",
      "6 Czytamy naturę #73 | Nasze ciała stygną - A gdyby dwa Słońca? - Ptaki i COVID-19\n",
      "6 Czytamy naturę #72 | Bakterie promieniochronne - Miękka kometka - Superorganizmy pierwotniacze\n",
      "6 Czytamy naturę #71 | Stare szympansy jak starzy ludzie–Księżyc-obrońca–Dzieci, szkoła i koronawirus\n",
      "3 Czytamy naturę #70 | LIVE | Superchrząszcze, roboty-czworonogi i przegląd szczepionek na COVID-19\n",
      "6 Czytamy naturę #67 | Bardzo kulturalne szympansy - Plastikowy deszcz - Mapa antyszczepionkowców\n",
      "6 Czytamy Naturę #66 | Owoce, które się nie psują - Superhydrofobia - Nanotechnologia na ślepotę\n",
      "8 Czytamy naturę #65 | Munch i mandryle - Błony i bariony\n",
      "6 Czytamy naturę #64 | Atlas komórek człowieka - Narodziny galaktyk - Bioniczne oko\n",
      "6 Czytamy Naturę #63 | Rotawirusy, drony i rury, czyli odcinek sponsorowany przez literkę \"R\"\n",
      "6 Czytamy naturę #62 | Na Ryugu - Gorączka malaryczna - Domy chłodne, kolorowe\n",
      "6 Czytamy naturę #61 | Dwutlenek węgla trochę ogłupia - Żelazne deszcze - Nanomaszyna antybiotykiem\n",
      "6 Czytamy naturę #60 | Okienko na embrion - Oumuamua - Nieuczciwie o nieuczciwości\n",
      "6 Czytamy naturę #59 | Materia i antymateria - Wieje na karłach - Twój ślad węglowy: a może weganizm?\n",
      "6 Czytamy naturę #58 | Smart drugs i motywacja - Cząstki ciemnej materii - Psia kość!\n",
      "6 Czytamy naturę #57 | Antykoncepcja dla mężczyzn - Trzęsienia Marsa - Palce sprzed 370 mln lat\n",
      "6 Czytamy naturę #56 | Mózg męski i kobiecy - Antarktyda po 200 latach - Dron z szybkim oczkiem\n",
      "6 Czytamy naturę #55 | Automatyczny reaktor chemiczny - Kometa w laboratorium - Budujemy Notre Dame!\n",
      "6 Czytamy naturę #54 | Diagnostyka psim nosem - Aktywna materia - O sztywności stopy ludzkiej\n",
      "6 Czytamy naturę #53 | Inżynieria genetyczna na raka - Jądra się bujają - 3000 twarzy czosnku\n",
      "6 Czytamy naturę #52 | Wszędzie gigantyczne wirusy - Fale galaktyczne - Bystre trzmiele\n",
      "6 Czytamy naturę #51 | Jak zostać złym mentorem - Wygrać z HIV - Potężny żółw\n",
      "3 Czytamy naturę #50 | Ziarenka z galaktyki - Wniknąć w nowotwór - Pompeje: jak to było?\n",
      "6 Czytamy naturę #49 | Chińscy kierowcy tyją - Siwienie ze stresu - Epidemie i pseudonauka\n",
      "6 Czytamy naturę #48 | Brakujące ogniwo z dna oceanu - Super-supernowa - Wilki aportują\n",
      "6 Czytamy naturę #45 | Rak piersi pod okiem AI - Solidne węzły - Gniew Polaka i gniew Papuasa\n",
      "3 Czytamy naturę #43 | Ogrzewanie przez próżnię - Skąd tlen? - O korzyściach z MDMA (ecstasy)\n",
      "6 Czytamy naturę #42 | Mrówki rysowane w Paincie - Wielka kula magmy - Ubierz się mądrze\n",
      "6 Czytamy naturę #41 | Mózg w ultraHD - O drganiach kabli - Karzeł zjadł planetę\n",
      "6 Czytamy naturę #40 | Cały świat śpiewa - Dotyk przez internet - Małpa na spacerze\n",
      "6 Czytamy naturę #39 | Labirynty na Tytanie - Lepiej niż hologram - Mrówki i korki\n",
      "6 Czytamy naturę #38 | O kropelce whisky - Taśma klejąca do tkanek - Anatomia porażki\n",
      "6 Czytamy naturę #35 | Lodówka skręceniowa - Prehistoryczne mleko - Drony z pazurami\n",
      "6 Czytamy naturę #34 | Zderzenia gwiazd - Jak skrócić prysznic - Wulkany i artyści\n",
      "6 Czytamy naturę #33 | Skutki wojny nuklearnej - Najstarsza gwiazda - Świnia z narzędziami\n",
      "6 Czytamy naturę #32 | Grafenowe origami - Redshift czarnej dziury - Ze szczurem w chowanego\n",
      "3 Czytamy naturę #31 | Jak zmienić życie w 30 minut - Eksplozje na Tytanie - Zaginione miasta Anatolii\n",
      "6 Czytamy naturę #30 | Saturn z bardzo bliska - Jak rośnie liść - Bardzo stary grzyb\n",
      "6 Czytamy naturę #29 | Efekt Casimira - Organoidy - Jak przewidzieć karierę w Hollywood\n",
      "6 Czytamy naturę #28 | Algorytm do Quake’a - Przetworzone tuczy? - Jak maca człowiek\n",
      "6 Czytamy naturę #27 | Mars i Fobos - Implantacja fałszywych wspomnień - Upadek kropelki\n",
      "6 Czytamy naturę #26 | Na wsi tłuściej - Nanoroboty kontra bakterie - Ciężkie życie doktoranta\n",
      "6 Czytamy naturę #25 | Raport o stanie świata - Porządna segregacja - Czujne oko Aborygena\n",
      "6 Czytamy naturę #24 | Roboty w tętnicach - Masywne szkła metaliczne - Zanim powstało Słońce\n",
      "6 Czytamy naturę #23 | Synteza mowy prosto z mózgu - Ku ciemnej materii - Wielka Piątka?\n",
      "6 Czytamy naturę #22 | Mózg żywy po śmierci - Igiełki piorunów - Ofiary ze świnek morskich\n",
      "6 Czytamy naturę #21 | Czarna dziura uwidoczniona - Homo luzonensis - Bogowie a rozwój społeczeństw\n",
      "6 Czytamy naturę #20 | Bakterie gadają z mózgiem - Atomowe wibracje - Szorstko w kosmosie\n",
      "6 Czytamy naturę #19 | Szympansy pod wpływem ludzi - Twoja arytmia - Poznaj wroga\n",
      "6 Czytamy naturę #18 | Nowe życie kambryjskie - Poświata niebieska - Robot w kawałkach\n",
      "6 Czytamy naturę #17 | Nowa dieta, nowe głoski - Ile do Magellana? - Jak zrobić wodospad?\n",
      "6 Czytamy naturę #16 | Podczerwień gołym okiem - Wodorowa atmosfera Ziemi - Kannabinoidy z drożdży\n",
      "6 Czytamy naturę #15 | Nowy sposób na kolor - Jak wzmocnić stopy? - Myszy śpiewają\n",
      "5 Czytamy naturę #14 | Wulkany czy asteroida? - Wieści z jądra - Telepowiązania pogodowe\n",
      "6 Czytamy naturę #13 | AI i Big Data w klimatologii - Pamięć ulotna - Mała i duża nauka\n",
      "6 Czytamy naturę #12 | Drukowanie światłem - Deszcz na Tytanie - Mrówki i obsługa autostrad\n",
      "6 Czytamy naturę #11 |  Roboty samouczące - Erupcja Kilauea - Prehistoryczni oszczepnicy\n",
      "6 Czytamy naturę #10 | Supermasywne czarne dziury - Peryskop w smartfonie - Fake newsy\n",
      "6 Czytamy naturę #9 | Robotyczne skamieliny - Kratery nocą - Oszukać pęcherz\n",
      "6 Czytamy naturę #8 | Komputer chemiczny – Krystalizacja białych karłów – Papużki wolą sprytnych\n",
      "6 Czytamy naturę #7 | Gigantyczny pra-ssak - Neon w płaszczu - Płyń z tłumem\n",
      "6 Czytamy naturę #6 | Astronomia w internecie - CRISPR z magnesami - Kulturalne muchy\n",
      "6 Czytamy naturę #5 | Pierwsze dzieci GMO - Ile gwiazd? - Zmysły i język\n",
      "6 Czytamy naturę #4 | Samolot jonowy - Lepkie bakterie - Słonie i ludzie\n",
      "6 Czytamy naturę #3 | Mózgi w probówce - Nowe planety - Lód i srebro\n",
      "6 Czytamy naturę #2 | Neonikotynoidy i trzmiele - Kolonizacja Ameryk - Rytmy El Niño\n",
      "3 Czytamy naturę #1 | Charon, rdzeń kręgowy, ameby\n"
     ]
    }
   ],
   "source": [
    "for key, val in videos.items():\r\n",
    "    if val:\r\n",
    "        print(len(val), key)"
   ]
  },
  {
   "cell_type": "markdown",
   "metadata": {},
   "source": [
    "### Contents not found"
   ]
  },
  {
   "cell_type": "code",
   "execution_count": 5,
   "metadata": {},
   "outputs": [
    {
     "name": "stdout",
     "output_type": "stream",
     "text": [
      "Czytamy naturę #79 [LIVE] - Ach, ten rok 2020...\n",
      "Czytamy naturę #69 | Jak to naprawdę było z tym życiem na Wenus?\n",
      "Czytamy naturę #68 | LIVE\n",
      "Czytamy naturę #47 | Świat wiedzy, Focus, Scientific American: recenzja po mojemu\n",
      "Czytamy naturę #46 | Mózg krok po kroku - Mapa gwiazdy neutronowej - Pięć ptaszków\n",
      "Czytamy naturę #44 | Rok 2019 w nauce\n",
      "Czytamy naturę po godzinach | Jak duża jest nauka i która nauka jest najważniejsza?\n",
      "Czytamy naturę po godzinach | Nauka a polityka i ideologia: klimat, równość płci i rasy...\n",
      "Czytamy naturę #37 | Cannabis razy siedem: medycyna, kannabinoidy, sport, legalizacja\n",
      "Czytamy naturę #36 | 150 lat \"Nature\", gość specjalny: Tomasz Rożek\n",
      "Czytamy naturę w wakacje #4 | Bardzo dużo świetnej nauki i dobre wiadomości\n",
      "Czytamy naturę w wakacje #3 | O lenistwie, wydolności i pękniętych telefonach\n",
      "Czytamy naturę w wakacje #2 | Ile jest złota na Księżycu i zaginiony kamień z Apollo 11\n",
      "Czytamy naturę w wakacje #1 | O uczciwości narodów, a zwłaszcza Polaków\n",
      "Czytamy naturę po godzinach | Jak wygląda kiepska nauka (o globalnym ociepleniu)?\n",
      "Czytamy naturę po godzinach | Anatomia artykułu naukowego\n",
      "Czytamy naturę po godzinach | Anatomia czasopisma naukowego\n",
      "Czytamy naturę | Zapowiedź odcinka pierwszego\n"
     ]
    }
   ],
   "source": [
    "for key, val in videos.items():\r\n",
    "    if not val:\r\n",
    "        print(key)"
   ]
  },
  {
   "cell_type": "markdown",
   "metadata": {},
   "source": [
    "## Save json"
   ]
  },
  {
   "cell_type": "code",
   "execution_count": 6,
   "metadata": {},
   "outputs": [],
   "source": [
    "import json\r\n",
    "\r\n",
    "with open('output.json', 'w', encoding=\"utf-8\") as f:\r\n",
    "    json.dump(videos, f, ensure_ascii=False, indent=2)"
   ]
  }
 ],
 "metadata": {
  "interpreter": {
   "hash": "1335e965be6b03b2ca3d5a2f6bc3b391d7255152bf81205b69b61607eef8f859"
  },
  "kernelspec": {
   "display_name": "Python 3.8.5 64-bit ('base': conda)",
   "name": "python3"
  },
  "language_info": {
   "codemirror_mode": {
    "name": "ipython",
    "version": 3
   },
   "file_extension": ".py",
   "mimetype": "text/x-python",
   "name": "python",
   "nbconvert_exporter": "python",
   "pygments_lexer": "ipython3",
   "version": "3.8.5"
  },
  "orig_nbformat": 4
 },
 "nbformat": 4,
 "nbformat_minor": 2
}