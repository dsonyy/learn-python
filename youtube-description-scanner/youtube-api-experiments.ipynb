{
 "cells": [
  {
   "cell_type": "code",
   "execution_count": 4,
   "metadata": {},
   "outputs": [],
   "source": [
    "from pyyoutube import Api\r\n",
    "\r\n",
    "API_KEY = open(\"api-key\").readline()\r\n",
    "api = Api(api_key=API_KEY)"
   ]
  },
  {
   "cell_type": "markdown",
   "metadata": {},
   "source": [
    "## Channels"
   ]
  },
  {
   "cell_type": "code",
   "execution_count": 7,
   "metadata": {},
   "outputs": [
    {
     "data": {
      "text/plain": [
       "{'kind': 'youtube#channel',\n",
       " 'etag': 'oLNDootGPODsaBtpixDHYeZn7FQ',\n",
       " 'id': 'UC_x5XG1OV2P6uZZ5FSM9Ttw',\n",
       " 'snippet': {'title': 'Google Developers',\n",
       "  'description': 'The Google Developers channel features talks from events, educational series, best practices, tips, and the latest updates across our products and platforms.\\n\\nSubscribe to Google Developers → https://goo.gle/developers\\n',\n",
       "  'customUrl': 'googledevelopers',\n",
       "  'publishedAt': '2007-08-23T00:34:43Z',\n",
       "  'thumbnails': {'default': {'url': 'https://yt3.ggpht.com/ytc/AKedOLSsnWm_dQzIqM-qgW74yebXNX_b__k6WAeUBb6GeGQ=s88-c-k-c0x00ffffff-no-rj',\n",
       "    'width': 88,\n",
       "    'height': 88},\n",
       "   'medium': {'url': 'https://yt3.ggpht.com/ytc/AKedOLSsnWm_dQzIqM-qgW74yebXNX_b__k6WAeUBb6GeGQ=s240-c-k-c0x00ffffff-no-rj',\n",
       "    'width': 240,\n",
       "    'height': 240},\n",
       "   'high': {'url': 'https://yt3.ggpht.com/ytc/AKedOLSsnWm_dQzIqM-qgW74yebXNX_b__k6WAeUBb6GeGQ=s800-c-k-c0x00ffffff-no-rj',\n",
       "    'width': 800,\n",
       "    'height': 800},\n",
       "   'standard': None,\n",
       "   'maxres': None},\n",
       "  'defaultLanguage': None,\n",
       "  'localized': {'title': 'Google Developers',\n",
       "   'description': 'The Google Developers channel features talks from events, educational series, best practices, tips, and the latest updates across our products and platforms.\\n\\nSubscribe to Google Developers → https://goo.gle/developers\\n'},\n",
       "  'country': 'US'},\n",
       " 'contentDetails': {'relatedPlaylists': {'likes': '',\n",
       "   'uploads': 'UU_x5XG1OV2P6uZZ5FSM9Ttw'}},\n",
       " 'statistics': {'viewCount': '184018742',\n",
       "  'subscriberCount': '2180000',\n",
       "  'hiddenSubscriberCount': False,\n",
       "  'videoCount': '5365'},\n",
       " 'topicDetails': {'topicIds': ['/m/07c1v', '/m/019_rr', '/m/01k8wb'],\n",
       "  'topicCategories': ['https://en.wikipedia.org/wiki/Technology',\n",
       "   'https://en.wikipedia.org/wiki/Lifestyle_(sociology)',\n",
       "   'https://en.wikipedia.org/wiki/Knowledge']},\n",
       " 'status': {'privacyStatus': 'public',\n",
       "  'isLinked': True,\n",
       "  'longUploadsStatus': 'longUploadsUnspecified'},\n",
       " 'brandingSettings': {'channel': {'title': 'Google Developers',\n",
       "   'description': 'The Google Developers channel features talks from events, educational series, best practices, tips, and the latest updates across our products and platforms.\\n\\nSubscribe to Google Developers → https://goo.gle/developers\\n',\n",
       "   'keywords': '\"google developers\" developers \"Google developers videos\" \"google developer tutorials\" \"developer tutorials\" \"developer news\" android firebase tensorflow chrome web flutter \"google developer experts\" \"google launchpad\" \"developer updates\" google \"google design\"',\n",
       "   'trackingAnalyticsAccountId': 'YT-9170156-1',\n",
       "   'moderateComments': None,\n",
       "   'unsubscribedTrailer': 'D_mVOAXcrtc',\n",
       "   'defaultLanguage': None,\n",
       "   'country': 'US'}}}"
      ]
     },
     "execution_count": 7,
     "metadata": {},
     "output_type": "execute_result"
    }
   ],
   "source": [
    "channel_by_id = api.get_channel_info(channel_id=\"UC_x5XG1OV2P6uZZ5FSM9Ttw\")\r\n",
    "channel_by_id.items"
   ]
  },
  {
   "cell_type": "markdown",
   "metadata": {},
   "source": [
    "## Playlist items"
   ]
  },
  {
   "cell_type": "code",
   "execution_count": 16,
   "metadata": {},
   "outputs": [],
   "source": [
    "playlist = api.get_playlist_items(playlist_id=\"PLuqpwpkBmbAn3lA7tY9lO3LaUOaRkAq1A\", count=None)"
   ]
  },
  {
   "cell_type": "code",
   "execution_count": 17,
   "metadata": {},
   "outputs": [
    {
     "data": {
      "text/plain": [
       "105"
      ]
     },
     "execution_count": 17,
     "metadata": {},
     "output_type": "execute_result"
    }
   ],
   "source": [
    "len(playlist.items)"
   ]
  },
  {
   "cell_type": "code",
   "execution_count": 18,
   "metadata": {},
   "outputs": [
    {
     "data": {
      "text/plain": [
       "[PlaylistItem(kind='youtube#playlistItem', id='UEx1cXB3cGtCbWJBbjNsQTd0WTlsTzNMYVVPYVJrQXExQS4wN0FBRUVFNEVBMTZBQ0Mx'),\n",
       " PlaylistItem(kind='youtube#playlistItem', id='UEx1cXB3cGtCbWJBbjNsQTd0WTlsTzNMYVVPYVJrQXExQS4zNDIxRUJGQThFRTg1QzAy'),\n",
       " PlaylistItem(kind='youtube#playlistItem', id='UEx1cXB3cGtCbWJBbjNsQTd0WTlsTzNMYVVPYVJrQXExQS4yOTZGRTNEQ0ZGNUM5RDgw'),\n",
       " PlaylistItem(kind='youtube#playlistItem', id='UEx1cXB3cGtCbWJBbjNsQTd0WTlsTzNMYVVPYVJrQXExQS5CQzUwREI3MzkxQjdBM0E0'),\n",
       " PlaylistItem(kind='youtube#playlistItem', id='UEx1cXB3cGtCbWJBbjNsQTd0WTlsTzNMYVVPYVJrQXExQS40OTQ5QjlEMDgzN0FBNUIw')]"
      ]
     },
     "execution_count": 18,
     "metadata": {},
     "output_type": "execute_result"
    }
   ],
   "source": [
    "playlist.items[:5]"
   ]
  },
  {
   "cell_type": "code",
   "execution_count": 24,
   "metadata": {},
   "outputs": [
    {
     "data": {
      "text/plain": [
       "{'kind': 'youtube#playlistItem',\n",
       " 'etag': 'v4whjuMPCtCz3R5duTijDIQYcWs',\n",
       " 'id': 'UEx1cXB3cGtCbWJBbjNsQTd0WTlsTzNMYVVPYVJrQXExQS4wN0FBRUVFNEVBMTZBQ0Mx',\n",
       " 'snippet': {'publishedAt': '2021-06-02T09:07:41Z',\n",
       "  'channelId': 'UCCehmsLClWwxA_SDLtff6xA',\n",
       "  'title': 'Czytamy naturę #95 | Dlaczego jesteś głodny? - Ogon ciemnej materii - Nadmuchiwane origami',\n",
       "  'description': 'W 95. odcinku \"Czytamy naturę\" będzie mowa o:\\n\\n1) 01:03  badaniach nad tym, co sprawia, że czujemy głód i po czym poznać, ile zjemy w ciągu najbliższych 24 godzin;\\n\\n2) 11:29  ogonie ciemnej materii, który ciągnie się za Wielkim Obłokiem Magellana;\\n\\n3) 18:18  tworzeniu nadmuchiwanych struktur o dowolnym kształcie inspirowanym origami.\\n\\nŹródła:\\n\\n1) Wyatt, P., Berry, S. E., Finlayson, G., O’Driscoll, R., Hadjigeorgiou, G., Drew, D. A., ... & Valdes, A. M. (2021). Postprandial glycaemic dips predict appetite and energy intake in healthy individuals. Nature Metabolism, 1-7; https://www.nature.com/articles/s42255-021-00383-x\\n2) Conroy, C., Naidu, R. P., Garavito-Camargo, N., Besla, G., Zaritsky, D., Bonaca, A., & Johnson, B. D. (2021). All-sky dynamical response of the Galactic halo to the Large Magellanic Cloud. Nature, 592(7855), 534-536; https://www.nature.com/articles/s41586-021-03385-7\\n3) Melancon, D., Gorissen, B., García-Mora, C. J., Hoberman, C., & Bertoldi, K. (2021). Multistable inflatable origami structures at the metre scale. Nature, 592(7855), 545-550; https://www.nature.com/articles/s41586-021-03407-4',\n",
       "  'thumbnails': {'default': {'url': 'https://i.ytimg.com/vi/czVE9OYY0fo/default.jpg',\n",
       "    'width': 120,\n",
       "    'height': 90},\n",
       "   'medium': {'url': 'https://i.ytimg.com/vi/czVE9OYY0fo/mqdefault.jpg',\n",
       "    'width': 320,\n",
       "    'height': 180},\n",
       "   'high': {'url': 'https://i.ytimg.com/vi/czVE9OYY0fo/hqdefault.jpg',\n",
       "    'width': 480,\n",
       "    'height': 360},\n",
       "   'standard': {'url': 'https://i.ytimg.com/vi/czVE9OYY0fo/sddefault.jpg',\n",
       "    'width': 640,\n",
       "    'height': 480},\n",
       "   'maxres': {'url': 'https://i.ytimg.com/vi/czVE9OYY0fo/maxresdefault.jpg',\n",
       "    'width': 1280,\n",
       "    'height': 720}},\n",
       "  'channelTitle': 'Copernicus Center for Interdisciplinary Studies',\n",
       "  'videoOwnerChannelTitle': 'Copernicus Center for Interdisciplinary Studies',\n",
       "  'videoOwnerChannelId': 'UCCehmsLClWwxA_SDLtff6xA',\n",
       "  'playlistId': 'PLuqpwpkBmbAn3lA7tY9lO3LaUOaRkAq1A',\n",
       "  'position': 0,\n",
       "  'resourceId': {'kind': 'youtube#video',\n",
       "   'videoId': 'czVE9OYY0fo',\n",
       "   'channelId': None,\n",
       "   'playlistId': None}},\n",
       " 'contentDetails': {'videoId': 'czVE9OYY0fo',\n",
       "  'note': None,\n",
       "  'videoPublishedAt': '2021-05-03T09:15:12Z'},\n",
       " 'status': {'privacyStatus': 'public'}}"
      ]
     },
     "execution_count": 24,
     "metadata": {},
     "output_type": "execute_result"
    }
   ],
   "source": [
    "playlist.items[0].to_dict()"
   ]
  },
  {
   "cell_type": "code",
   "execution_count": 73,
   "metadata": {},
   "outputs": [],
   "source": []
  },
  {
   "cell_type": "code",
   "execution_count": 75,
   "metadata": {},
   "outputs": [
    {
     "name": "stdout",
     "output_type": "stream",
     "text": [
      "Czytamy naturę #79 [LIVE] - Ach, ten rok 2020...\n",
      "Czytamy naturę #69 | Jak to naprawdę było z tym życiem na Wenus?\n",
      "Czytamy naturę #68 | LIVE\n",
      "Czytamy naturę #47 | Świat wiedzy, Focus, Scientific American: recenzja po mojemu\n",
      "Czytamy naturę #46 | Mózg krok po kroku - Mapa gwiazdy neutronowej - Pięć ptaszków\n",
      "Czytamy naturę #44 | Rok 2019 w nauce\n",
      "Czytamy naturę po godzinach | Jak duża jest nauka i która nauka jest najważniejsza?\n",
      "Czytamy naturę po godzinach | Nauka a polityka i ideologia: klimat, równość płci i rasy...\n",
      "Czytamy naturę #37 | Cannabis razy siedem: medycyna, kannabinoidy, sport, legalizacja\n",
      "Czytamy naturę #36 | 150 lat \"Nature\", gość specjalny: Tomasz Rożek\n",
      "Czytamy naturę w wakacje #4 | Bardzo dużo świetnej nauki i dobre wiadomości\n",
      "Czytamy naturę w wakacje #3 | O lenistwie, wydolności i pękniętych telefonach\n",
      "Czytamy naturę w wakacje #2 | Ile jest złota na Księżycu i zaginiony kamień z Apollo 11\n",
      "Czytamy naturę w wakacje #1 | O uczciwości narodów, a zwłaszcza Polaków\n",
      "Czytamy naturę po godzinach | Jak wygląda kiepska nauka (o globalnym ociepleniu)?\n",
      "Czytamy naturę po godzinach | Anatomia artykułu naukowego\n",
      "Czytamy naturę po godzinach | Anatomia czasopisma naukowego\n",
      "Czytamy naturę | Zapowiedź odcinka pierwszego\n"
     ]
    }
   ],
   "source": [
    "for key, val in videos.items():\r\n",
    "    if not val:\r\n",
    "        print(key)"
   ]
  }
 ],
 "metadata": {
  "interpreter": {
   "hash": "1335e965be6b03b2ca3d5a2f6bc3b391d7255152bf81205b69b61607eef8f859"
  },
  "kernelspec": {
   "display_name": "Python 3.8.5 64-bit ('base': conda)",
   "name": "python3"
  },
  "language_info": {
   "codemirror_mode": {
    "name": "ipython",
    "version": 3
   },
   "file_extension": ".py",
   "mimetype": "text/x-python",
   "name": "python",
   "nbconvert_exporter": "python",
   "pygments_lexer": "ipython3",
   "version": "3.8.5"
  },
  "orig_nbformat": 4
 },
 "nbformat": 4,
 "nbformat_minor": 2
}