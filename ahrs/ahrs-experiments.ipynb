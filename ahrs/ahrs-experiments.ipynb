{
 "metadata": {
  "language_info": {
   "codemirror_mode": {
    "name": "ipython",
    "version": 3
   },
   "file_extension": ".py",
   "mimetype": "text/x-python",
   "name": "python",
   "nbconvert_exporter": "python",
   "pygments_lexer": "ipython3",
   "version": "3.8.5"
  },
  "orig_nbformat": 4,
  "kernelspec": {
   "name": "python3",
   "display_name": "Python 3.8.5 64-bit ('base': conda)"
  },
  "interpreter": {
   "hash": "1335e965be6b03b2ca3d5a2f6bc3b391d7255152bf81205b69b61607eef8f859"
  }
 },
 "nbformat": 4,
 "nbformat_minor": 2,
 "cells": [
  {
   "cell_type": "code",
   "execution_count": 1,
   "metadata": {},
   "outputs": [],
   "source": [
    "import numpy as np\n",
    "import ahrs"
   ]
  },
  {
   "source": [
    "### Filters supported by ahrs\n",
    "|Algorithm | Gyroscope | Accelerometer | Magnetometer |\n",
    "|---|---|---|---|\n",
    "| AQUA | YES | Optional | Optional |\n",
    "| Complementary | YES | YES | Optional |\n",
    "| Davenport’s | NO | YES | YES |\n",
    "| EKF | YES | YES | YES |\n",
    "| FAMC | NO | YES | YES |\n",
    "| FLAE | NO | YES | YES |\n",
    "| Fourati | YES | YES | YES |\n",
    "| FQA | NO | YES | Optional |\n",
    "| Integration | YES | NO | NO |\n",
    "| Madgwick | YES | YES | Optional |\n",
    "| Mahony | YES | YES | Optional |\n",
    "| OLEQ | NO | YES | YES |\n",
    "| QUEST | NO | YES | YES |\n",
    "| ROLEQ | NO | YES | YES |\n",
    "| SAAM | NO | YES | YES |\n",
    "| Tilt | NO | YES | Optional |\n",
    "| TRIAD | NO | YES | YES |"
   ],
   "cell_type": "markdown",
   "metadata": {}
  },
  {
   "cell_type": "code",
   "execution_count": 110,
   "metadata": {},
   "outputs": [
    {
     "output_type": "stream",
     "name": "stdout",
     "text": [
      "0.9999625021092431\t0.004999812510546216\t-0.004999812510546216\t-0.004999812510546216\n0.9998500112491563\t0.009999250056245784\t-0.009999250056245784\t-0.009999250056245784\n0.9996625358560794\t0.014997937700372832\t-0.014997937700372834\t-0.014997937700372832\n0.999400089989876\t0.019995500562440944\t-0.019995500562440947\t-0.019995500562440944\n0.9990626933328791\t0.024991563846317625\t-0.024991563846317625\t-0.024991563846317625\n0.9986503711884145\t0.029985752868332397\t-0.029985752868332397\t-0.029985752868332397\n0.9981631544789037\t0.03497769308537653\t-0.03497769308537653\t-0.03497769308537653\n0.9976010797435446\t0.03996701012299218\t-0.03996701012299218\t-0.03996701012299218\n0.9969641891355712\t0.0449533298034489\t-0.0449533298034489\t-0.0449533298034489\n0.9962525304190927\t0.049936278173805373\t-0.049936278173805373\t-0.049936278173805373\n"
     ]
    }
   ],
   "source": [
    "mahony = ahrs.filters.Mahony()\n",
    "\n",
    "Q = np.array([1., 0., 0., 0.])\n",
    "for i in range(10):\n",
    "    mahony.updateIMU(q=Q, acc=np.array([0., 0., 0.]), gyr=np.array([1., -1., -1.]))\n",
    "    print(*Q, sep=\"\\t\")"
   ]
  }
 ]
}